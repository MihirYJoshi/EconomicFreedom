{
  "nbformat": 4,
  "nbformat_minor": 0,
  "metadata": {
    "colab": {
      "provenance": [],
      "collapsed_sections": []
    },
    "kernelspec": {
      "name": "python3",
      "display_name": "Python 3"
    },
    "language_info": {
      "name": "python"
    }
  },
  "cells": [
    {
      "cell_type": "code",
      "execution_count": 146,
      "metadata": {
        "id": "FyeWUyn4XYJo"
      },
      "outputs": [],
      "source": [
        "import pandas as pd\n",
        "from sklearn.ensemble import RandomForestClassifier\n",
        "import numpy as np"
      ]
    },
    {
      "cell_type": "code",
      "source": [
        "df = pd.read_csv('data.csv', encoding='latin-1') #Reading CSV"
      ],
      "metadata": {
        "id": "czf3S1RNXtZs"
      },
      "execution_count": 147,
      "outputs": []
    },
    {
      "cell_type": "code",
      "source": [
        "df.columns = [c.replace(' ', '_') for c in df.columns] #Replacing Spaces in Column Heading with Dashes\n"
      ],
      "metadata": {
        "id": "bQ47hPLxcrNV"
      },
      "execution_count": 148,
      "outputs": []
    },
    {
      "cell_type": "code",
      "source": [
        "y = pd.to_numeric(df['5_Year_GDP_Growth_Rate_(%)']) #Setting y value to the 5 year GDP growth rate\n"
      ],
      "metadata": {
        "id": "G3LsygUkbKhM"
      },
      "execution_count": 149,
      "outputs": []
    },
    {
      "cell_type": "code",
      "source": [
        "x = df.drop(['CountryID', 'Country_Name', 'WEBNAME','Region', 'World_Rank', 'Region_Rank','Country','5_Year_GDP_Growth_Rate_(%)'], axis=1) #dropping unnecessary columns\n",
        "x['FDI_Inflow_(Millions)'] = df['FDI_Inflow_(Millions)'].str.replace(',', '').astype(float) #Cleaning Up commas and strings from data\n",
        "x['FDI_Inflow_(Millions)'] = pd.to_numeric(x['FDI_Inflow_(Millions)'])\n",
        "\n",
        "x['GDP_per_Capita_(PPP)'] = df['GDP_per_Capita_(PPP)'].str.replace(',', '').astype(float)\n",
        "x['GDP_per_Capita_(PPP)'] = pd.to_numeric(x['GDP_per_Capita_(PPP)'])\n",
        "\n",
        "x['GDP_(Billions,_PPP)'] = df['GDP_(Billions,_PPP)'].str.replace(',', '').astype(float)\n",
        "x['GDP_(Billions,_PPP)'] = pd.to_numeric(x['GDP_(Billions,_PPP)'])"
      ],
      "metadata": {
        "id": "NDTg-IIPeHv5"
      },
      "execution_count": 180,
      "outputs": []
    },
    {
      "cell_type": "code",
      "source": [
        "from sklearn.model_selection import train_test_split\n",
        "x = x.apply(pd.to_numeric, errors='coerce') #Removing possible strings\n",
        "y = y.apply(pd.to_numeric, errors='coerce')\n",
        "x_train, x_test, y_train, y_test = train_test_split(x, y, test_size=0.2, random_state=100) #splitting test and train"
      ],
      "metadata": {
        "id": "ib5OixMxej15"
      },
      "execution_count": 181,
      "outputs": []
    },
    {
      "cell_type": "code",
      "source": [
        "##LR"
      ],
      "metadata": {
        "id": "VdvmS8YOn7-h"
      },
      "execution_count": 128,
      "outputs": []
    },
    {
      "cell_type": "code",
      "source": [
        "from sklearn.linear_model import LinearRegression\n",
        "lr = LinearRegression() #Linear Regression from SKlearn\n",
        "lr.fit(x_train, y_train) #Fitting Model"
      ],
      "metadata": {
        "colab": {
          "base_uri": "https://localhost:8080/"
        },
        "id": "DdagreQXf-v8",
        "outputId": "8d726208-be65-42f5-e27d-f7e6382ac5ea"
      },
      "execution_count": 182,
      "outputs": [
        {
          "output_type": "execute_result",
          "data": {
            "text/plain": [
              "LinearRegression()"
            ]
          },
          "metadata": {},
          "execution_count": 182
        }
      ]
    },
    {
      "cell_type": "code",
      "source": [
        "y_lr_train_pred = lr.predict(x_train)\n",
        "y_lr_test_pred = lr.predict(x_test) #Predicting Test"
      ],
      "metadata": {
        "id": "c77mwiyWmBdV"
      },
      "execution_count": 183,
      "outputs": []
    },
    {
      "cell_type": "code",
      "source": [
        "from sklearn.metrics import mean_squared_error, r2_score\n",
        "lr_train_mse = mean_squared_error(y_train,y_lr_train_pred)\n",
        "\n",
        "lr_test_mse = mean_squared_error(y_test, y_lr_test_pred)\n",
        "\n",
        "print(\"Test MSE:\", lr_test_mse) #Mean Squared Error Test\n",
        "print(\"Train MSE:\", lr_train_mse) #Mean Squared Error Train"
      ],
      "metadata": {
        "colab": {
          "base_uri": "https://localhost:8080/"
        },
        "id": "oAqAi031so50",
        "outputId": "b23d2e2d-25fa-4ddd-edb3-cc7b538b6386"
      },
      "execution_count": 185,
      "outputs": [
        {
          "output_type": "stream",
          "name": "stdout",
          "text": [
            "Test MSE: 3.5369713365953186\n",
            "Train MSE: 4.6750342463506716\n"
          ]
        }
      ]
    }
  ]
}